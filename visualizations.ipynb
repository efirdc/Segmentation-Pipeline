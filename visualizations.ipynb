{
 "cells": [
  {
   "cell_type": "code",
   "execution_count": 25,
   "metadata": {
    "tags": []
   },
   "outputs": [
    {
     "name": "stdout",
     "output_type": "stream",
     "text": [
      "The autoreload extension is already loaded. To reload it, use:\n",
      "  %reload_ext autoreload\n",
      "CUDA is available. Using GPU.\n"
     ]
    }
   ],
   "source": [
    "%load_ext autoreload\n",
    "%autoreload 2\n",
    "\n",
    "import copy\n",
    "import os\n",
    "\n",
    "import torch\n",
    "import torchio as tio\n",
    "from ipywidgets import interact\n",
    "import matplotlib.pyplot as plt\n",
    "\n",
    "from torch_context import TorchContext\n",
    "from evaluators import *\n",
    "from transforms import *\n",
    "from utils import slice_volume, load_module\n",
    "\n",
    "\n",
    "if torch.cuda.is_available():\n",
    "    device = torch.device('cuda')\n",
    "    print(\"CUDA is available. Using GPU.\")\n",
    "else:\n",
    "    device = torch.device('cpu')\n",
    "    print(\"CUDA is not available. Using CPU.\")"
   ]
  },
  {
   "cell_type": "code",
   "execution_count": null,
   "metadata": {},
   "outputs": [],
   "source": [
    "config = load_module(\"./configs/diffusion_hippocampus.py\")\n",
    "\n",
    "variables = dict(DATASET_PATH=\"X:/Datasets/Diffusion_MRI/\", CHECKPOINTS_PATH=\"X:/Checkpoints/\")\n",
    "context = config.get_context(device, variables)\n",
    "context.init_components()"
   ]
  },
  {
   "cell_type": "code",
   "execution_count": 2,
   "metadata": {},
   "outputs": [],
   "source": [
    "iteration = 400\n",
    "file_path = f\"X:\\\\Checkpoints\\\\Diffusion_MRI\\\\dmri-hippo-seg-debugging\\\\dmri-hippo-cycle-flash-1q798mvn\\\\best_checkpoints\\\\iter{iteration:08}.pt\"\n",
    "variables = dict(DATASET_PATH=\"X:/Datasets/Diffusion_MRI/\", CHECKPOINTS_PATH=\"X:/Checkpoints/\")\n",
    "context = TorchContext(device, file_path=file_path, variables=variables)\n",
    "context.init_components()"
   ]
  },
  {
   "cell_type": "code",
   "execution_count": null,
   "metadata": {},
   "outputs": [],
   "source": [
    "iteration = 951\n",
    "file_name = f\"X:/Checkpoints/MSSEG2/msseg2-sunny-cloud-21/checkpoints/iter{iteration:08}.pt\"\n",
    "variables = dict(DATASET_PATH=\"X:/Datasets/MSSEG2_processed/\", CHECKPOINTS_PATH=\"X:/Checkpoints/\")\n",
    "from configs.msseg2 import *\n",
    "\n",
    "context = Context(device, file_name=file_name, variables=variables)"
   ]
  },
  {
   "cell_type": "code",
   "execution_count": null,
   "metadata": {},
   "outputs": [],
   "source": [
    "print(context)"
   ]
  },
  {
   "cell_type": "code",
   "execution_count": null,
   "metadata": {},
   "outputs": [],
   "source": [
    "seg_evaluator = SegmentationEvaluator"
   ]
  },
  {
   "cell_type": "code",
   "execution_count": null,
   "metadata": {},
   "outputs": [],
   "source": [
    "config = load_module(\"./configs/msseg2.py\")\n",
    "\n",
    "variables = dict(DATASET_PATH=\"X:/Datasets/MSSEG2_processed/\", CHECKPOINTS_PATH=\"X:/Checkpoints/\")\n",
    "context = config.get_context(device, variables)"
   ]
  },
  {
   "cell_type": "code",
   "execution_count": null,
   "metadata": {},
   "outputs": [],
   "source": [
    "training_dataset = context.dataset.get_cohort_dataset('training')\n",
    "validation_dataset = context.dataset.get_cohort_dataset('validation')\n",
    "print(len(training_dataset))\n",
    "[subject['name'] for subject in training_dataset.subjects]"
   ]
  },
  {
   "cell_type": "code",
   "execution_count": 84,
   "metadata": {},
   "outputs": [
    {
     "name": "stderr",
     "output_type": "stream",
     "text": [
      "c:\\users\\cefir\\appdata\\local\\programs\\python\\python38\\lib\\site-packages\\ipykernel\\ipkernel.py:283: DeprecationWarning: `should_run_async` will not call `transform_cell` automatically in the future. Please pass the result to `transformed_cell` argument and any exception that happen during thetransform in `preprocessing_exc_tuple` in IPython 7.17 and above.\n",
      "  and should_run_async(code)\n"
     ]
    },
    {
     "data": {
      "application/vnd.jupyter.widget-view+json": {
       "model_id": "a819697feb954103befbb78b1e4924ce",
       "version_major": 2,
       "version_minor": 0
      },
      "text/plain": [
       "interactive(children=(Dropdown(description='name', options=('ab300_001', 'ab300_002', 'ab300_003', 'ab300_004'…"
      ]
     },
     "metadata": {},
     "output_type": "display_data"
    }
   ],
   "source": [
    "dataset = context.dataset\n",
    "all_subject_names = list(dataset.all_subjects_map.keys())\n",
    "import matplotlib\n",
    "\n",
    "def vis_subject(subject):\n",
    "    subject = FindInterestingSlice()(subject)\n",
    "    images = {key: val for key, val in subject.items() if isinstance(val, tio.ScalarImage)}\n",
    "    label_maps = {key: val for key, val in subject.items() if isinstance(val, tio.LabelMap)}\n",
    "    \n",
    "    @interact(image_name=images.keys(), label_map_name=label_maps.keys(), plane=['Axial', 'Coronal', 'Saggital'])\n",
    "    def select_images(image_name, label_map_name, plane):\n",
    "        label_map_name = 'y'\n",
    "        image = images[image_name]\n",
    "        label_map = label_maps[label_map_name]\n",
    "        W, H, D = image.spatial_shape\n",
    "        num_slices = {'Axial': D, 'Coronal': H, 'Saggital': W}[plane]\n",
    "        \n",
    "        @interact(save=False, show_labels=True, legend=True, ticks=False, scale=(0.05, 0.15, 0.01), line_width=(0.5, 2.5),\n",
    "                 slice_id=(0, num_slices-1), interesting_slice=False)\n",
    "        def select_slice(save, show_labels, legend, ticks, scale, line_width, slice_id, interesting_slice):\n",
    "            \n",
    "            if 'y_pred' in subject:\n",
    "                prediction_label_map_name = 'y_pred'\n",
    "            else:\n",
    "                prediction_label_map_name = None\n",
    "    \n",
    "            evaluator = ContourImageEvaluator(\n",
    "                plane=plane, image_name=image_name, \n",
    "                target_label_map_name=label_map_name if show_labels else None, \n",
    "                prediction_label_map_name=prediction_label_map_name if show_labels else None, \n",
    "                slice_id=slice_id, legend=legend, ncol=1, scale=scale, line_width=line_width,\n",
    "                interesting_slice=interesting_slice\n",
    "            )\n",
    "            \n",
    "            pil_image = evaluator([subject])\n",
    "            fig = plt.figure(figsize=(10, 10))\n",
    "            plt.imshow(pil_image)\n",
    "            if not ticks:\n",
    "                plt.tick_params(which='both', bottom=False, top=False, left=False, labelbottom=False, labelleft=False)\n",
    "            if save:\n",
    "                save_dir = f\"./images/{context.name}/iter{context.iteration:08}/\"\n",
    "                if not os.path.exists(save_dir):\n",
    "                    os.makedirs(save_dir)\n",
    "                file_name = f\"{subject['name']}_{image_name}_{plane}_{slice_id}.png\"\n",
    "                fig.savefig(save_dir + file_name, bbox_inches=\"tight\", pad_inches=0.0, facecolor=\"black\")\n",
    "            plt.show()\n",
    "            plt.close(fig)\n",
    "            \n",
    "def vis_features(x):\n",
    "    N, C, W, H, D = x.shape\n",
    "    \n",
    "    @interact(i=(0, N-1), c=(0, C-1), d=(0, D-1))\n",
    "    def plot_feature_map(i, c, d):\n",
    "        fig = plt.figure(figsize=(16, 16))\n",
    "        plt.imshow(x[i, c, :, :, d].cpu(), cmap=\"gray\")\n",
    "        plt.colorbar()\n",
    "        \n",
    "\n",
    "def vis_model(subject):\n",
    "    X = subject['X']['data'].unsqueeze(0).to(device)\n",
    "    modules = list(context.model.named_modules())\n",
    "    \n",
    "    @interact(module=modules[1:])\n",
    "    def select_module(module):\n",
    "    \n",
    "        def forward_module_hook(module, x_in, x_out):\n",
    "            vis_features(x_out.cpu())\n",
    "            \n",
    "        hook_handle = module.register_forward_hook(forward_module_hook)\n",
    "        with torch.no_grad():\n",
    "            context.model(X)\n",
    "        hook_handle.remove()\n",
    "\n",
    "\n",
    "@interact(name=all_subject_names, mode=['vis_subject', 'vis_model'])\n",
    "def vis(name, mode):\n",
    "    subject = context.dataset[name]\n",
    "    context.model.eval()\n",
    "    if mode == 'vis_subject':\n",
    "        X = subject['X']['data'][None].to(device)\n",
    "        with torch.no_grad():\n",
    "            y_pred = context.model(X)[0]\n",
    "            y_pred = y_pred > 0.5\n",
    "        subject['y_pred'] = copy.deepcopy(subject['y'])\n",
    "        subject['y_pred'].set_data(y_pred)\n",
    "            \n",
    "        vis_subject(subject)\n",
    "    \n",
    "    elif mode == 'vis_model':\n",
    "        vis_model(subject)"
   ]
  },
  {
   "cell_type": "code",
   "execution_count": null,
   "metadata": {},
   "outputs": [],
   "source": [
    "for subject in context.dataset:\n",
    "    time01 = subject['flair_time01'].data\n",
    "    time01 = subject['flair_time01'].data\n",
    "    print(subject['name'], subject['flair_time01'], time01.mean(), time01.std(), time01.min(), time01.max())"
   ]
  },
  {
   "cell_type": "code",
   "execution_count": null,
   "metadata": {},
   "outputs": [],
   "source": [
    "for subject in context.dataset:\n",
    "    print(subject['name'], subject['flair_time01'])"
   ]
  },
  {
   "cell_type": "code",
   "execution_count": 77,
   "metadata": {},
   "outputs": [],
   "source": [
    "subject = context.dataset[0]"
   ]
  },
  {
   "cell_type": "code",
   "execution_count": 52,
   "metadata": {},
   "outputs": [
    {
     "name": "stdout",
     "output_type": "stream",
     "text": [
      "tensor([76, 75, 77, 74, 78, 19, 18, 20, 79, 21, 73, 17, 72, 22, 71, 16, 80, 70,\n",
      "        23, 24, 15, 25, 81, 26, 14, 69, 27, 68, 28, 13, 82, 29, 67, 30, 12, 66,\n",
      "        65, 31, 64, 63])\n"
     ]
    }
   ],
   "source": [
    "import numpy as np\n",
    "\n",
    "mask = subject['hbt_roi'].data.bool()[0]\n",
    "W, H, D = mask.shape\n",
    "W_where, H_where, D_where = torch.where(mask)\n",
    "\n",
    "slice_ids, counts = torch.unique(W_where, return_counts=True)\n",
    "interesting_slice_ids_ids = torch.argsort(counts, descending=True)\n",
    "interesting_slice_ids = slice_ids[interesting_slice_ids_ids]\n",
    "\n",
    "print(interesting_slice_ids)\n"
   ]
  },
  {
   "cell_type": "code",
   "execution_count": 78,
   "metadata": {},
   "outputs": [
    {
     "name": "stdout",
     "output_type": "stream",
     "text": [
      "torch.int32\n",
      "torch.int32\n"
     ]
    }
   ],
   "source": [
    "subject = FindInterestingSlice()(subject)\n"
   ]
  },
  {
   "cell_type": "code",
   "execution_count": 79,
   "metadata": {},
   "outputs": [
    {
     "data": {
      "text/plain": [
       "{'Saggital': tensor([76, 75, 77, 74, 78, 19, 18, 20, 79, 21, 73, 17, 72, 22, 71, 16, 80, 70,\n",
       "         23, 24, 15, 25, 81, 26, 14, 69, 27, 68, 28, 13, 82, 29, 67, 30, 12, 66,\n",
       "         65, 31, 64, 63]),\n",
       " 'Coronal': tensor([37, 39, 38, 36, 40, 41, 35, 42, 34, 33, 43, 44, 32, 45, 48, 49, 46, 47,\n",
       "         31, 50, 30, 52, 51, 53, 54, 68, 55, 60, 69, 70, 58, 59, 66, 67, 61, 65,\n",
       "         63, 62, 64, 56, 71, 73, 57, 72, 74, 75, 29, 28, 76, 77, 27, 78, 26, 25,\n",
       "         79, 24]),\n",
       " 'Axial': tensor([12, 11, 13, 10, 14, 15,  9, 16, 17,  8, 18, 19])}"
      ]
     },
     "execution_count": 79,
     "metadata": {},
     "output_type": "execute_result"
    }
   ],
   "source": [
    "subject['y']['interesting_slice_ids']"
   ]
  },
  {
   "cell_type": "code",
   "execution_count": 73,
   "metadata": {},
   "outputs": [
    {
     "data": {
      "text/plain": [
       "True"
      ]
     },
     "execution_count": 73,
     "metadata": {},
     "output_type": "execute_result"
    }
   ],
   "source": [
    "x = torch.ones(1)\n",
    "x.dtype == torch.float"
   ]
  },
  {
   "cell_type": "code",
   "execution_count": 120,
   "metadata": {},
   "outputs": [
    {
     "data": {
      "text/plain": [
       "[1,\n",
       " 1,\n",
       " 3,\n",
       " 0,\n",
       " 2,\n",
       " 0,\n",
       " 4,\n",
       " 2,\n",
       " 3,\n",
       " 1,\n",
       " 2,\n",
       " 1,\n",
       " 0,\n",
       " 1,\n",
       " 3,\n",
       " 0,\n",
       " 0,\n",
       " 4,\n",
       " 0,\n",
       " 3,\n",
       " 2,\n",
       " 0,\n",
       " 2,\n",
       " 3,\n",
       " 4,\n",
       " 3,\n",
       " 1,\n",
       " 4,\n",
       " 4,\n",
       " 4,\n",
       " 3,\n",
       " 3,\n",
       " 2,\n",
       " 0,\n",
       " 4,\n",
       " 0,\n",
       " 1,\n",
       " 2,\n",
       " 1,\n",
       " 2,\n",
       " 1,\n",
       " 4]"
      ]
     },
     "execution_count": 120,
     "metadata": {},
     "output_type": "execute_result"
    }
   ],
   "source": [
    "from random import Random\n",
    "\n",
    "fold_ids = [i % 5 for i in range(42)]\n",
    "Random(0).shuffle(fold_ids)\n",
    "fold_ids"
   ]
  }
 ],
 "metadata": {
  "kernelspec": {
   "display_name": "Python 3",
   "language": "python",
   "name": "python3"
  },
  "language_info": {
   "codemirror_mode": {
    "name": "ipython",
    "version": 3
   },
   "file_extension": ".py",
   "mimetype": "text/x-python",
   "name": "python",
   "nbconvert_exporter": "python",
   "pygments_lexer": "ipython3",
   "version": "3.8.8"
  }
 },
 "nbformat": 4,
 "nbformat_minor": 4
}
