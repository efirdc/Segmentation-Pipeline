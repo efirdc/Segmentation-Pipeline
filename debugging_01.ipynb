{
 "cells": [
  {
   "cell_type": "code",
   "execution_count": 1,
   "id": "nominated-contract",
   "metadata": {},
   "outputs": [
    {
     "name": "stdout",
     "output_type": "stream",
     "text": [
      "CUDA is available. Using GPU.\n"
     ]
    }
   ],
   "source": [
    "import torch\n",
    "from utils import load_module\n",
    "\n",
    "if torch.cuda.is_available():\n",
    "    device = torch.device('cuda')\n",
    "    print(\"CUDA is available. Using GPU.\")\n",
    "else:\n",
    "    device = torch.device('cpu')\n",
    "    print(\"CUDA is not available. Using CPU.\")"
   ]
  },
  {
   "cell_type": "code",
   "execution_count": null,
   "id": "recent-weather",
   "metadata": {},
   "outputs": [],
   "source": [
    "config = load_module(\"./configs/diffusion_hippocampus.py\")\n",
    "\n",
    "variables = dict(DATASET_PATH=\"X:/Datasets/Diffusion_MRI/Subjects/\", CHECKPOINTS_PATH=\"X:/Checkpoints/\")\n",
    "context = config.get_context(device, variables)"
   ]
  },
  {
   "cell_type": "code",
   "execution_count": 2,
   "id": "abroad-kingdom",
   "metadata": {},
   "outputs": [],
   "source": [
    "config = load_module(\"./configs/qsm_deep_grey_matter.py\")\n",
    "\n",
    "variables = dict(DATASET_PATH=\"X:/Datasets/DGM/segmentation_3T_ps18_v3/\", CHECKPOINTS_PATH=\"X:/Checkpoints/\")\n",
    "context = config.get_context(device, variables)"
   ]
  },
  {
   "cell_type": "code",
   "execution_count": 4,
   "id": "recovered-fleece",
   "metadata": {},
   "outputs": [
    {
     "name": "stdout",
     "output_type": "stream",
     "text": [
      "Original labels:\n",
      "{'left_ventricle': 1, 'right_ventricle': 2, 'left_caudate': 3, 'right_caudate': 4, 'left_putamen': 5, 'right_putamen': 6, 'left_thalamus': 7, 'right_thalamus': 8, 'left_globus_pallidus': 9, 'right_globus_pallidus': 10, 'internal_capsule': 17, 'left_red_nucleus': 19, 'right_red_nucleus': 20, 'left_substantia_nigra': 21, 'right_substantia_nigra': 22, 'left_dentate_nucleus': 23, 'right_dentate_nucleus': 24}\n",
      "\n",
      "Transformed labels:\n",
      "{'left_caudate': 1, 'right_caudate': 1, 'left_putamen': 2, 'right_putamen': 2, 'left_thalamus': 3, 'right_thalamus': 4, 'left_globus_pallidus': 5, 'right_globus_pallidus': 5, 'internal_capsule': 6, 'left_red_nucleus': 7, 'right_red_nucleus': 8, 'left_substantia_nigra': 9, 'right_substantia_nigra': 9}\n",
      "\n",
      "Inverse transformed labels:\n",
      "{'left_caudate': 3, 'right_caudate': 4, 'left_putamen': 5, 'right_putamen': 6, 'left_thalamus': 7, 'right_thalamus': 8, 'left_globus_pallidus': 9, 'right_globus_pallidus': 10, 'internal_capsule': 17, 'left_red_nucleus': 19, 'right_red_nucleus': 20, 'left_substantia_nigra': 21, 'right_substantia_nigra': 22}\n"
     ]
    }
   ],
   "source": [
    "untransformed_subject =  context.dataset.subjects[0]\n",
    "print(\"Original labels:\")\n",
    "print(untransformed_subject.dgm['label_names'])\n",
    "\n",
    "subject = context.dataset[0]\n",
    "print(\"\\nTransformed labels:\")\n",
    "print(subject.dgm['label_names'])\n",
    "\n",
    "inverse_subject = subject.apply_inverse_transform(warn=False)\n",
    "print(\"\\nInverse transformed labels:\")\n",
    "print(inverse_subject.dgm['label_names'])"
   ]
  },
  {
   "cell_type": "code",
   "execution_count": null,
   "id": "breeding-pennsylvania",
   "metadata": {},
   "outputs": [],
   "source": [
    "print(subject[\"X\"])"
   ]
  },
  {
   "cell_type": "code",
   "execution_count": null,
   "id": "adaptive-viking",
   "metadata": {},
   "outputs": [],
   "source": [
    "for key, value in context.dataset[1].items():\n",
    "    print(key, value, type(value))\n",
    "    if isinstance(value, dict):\n",
    "        for key, value2 in value.items():\n",
    "            print(key, value2)"
   ]
  },
  {
   "cell_type": "code",
   "execution_count": 3,
   "id": "genetic-paste",
   "metadata": {},
   "outputs": [
    {
     "name": "stdout",
     "output_type": "stream",
     "text": [
      "X torch.Size([4, 2, 80, 112, 32]) torch.float32\n",
      "y torch.Size([4, 80, 112, 32]) torch.int32\n",
      "X torch.Size([4, 2, 80, 112, 32]) torch.float32\n",
      "y torch.Size([4, 80, 112, 32]) torch.int32\n"
     ]
    }
   ],
   "source": [
    "def sample_data(loader):\n",
    "    while True:\n",
    "        for batch in loader:\n",
    "            yield batch\n",
    "           \n",
    "for i in range(2):\n",
    "    loader = sample_data(context.dataloader)\n",
    "    batch = next(loader)\n",
    "    for key, val in batch.items():\n",
    "        print(key, val.shape, val.dtype)"
   ]
  },
  {
   "cell_type": "code",
   "execution_count": null,
   "id": "wanted-significance",
   "metadata": {},
   "outputs": [],
   "source": [
    "x = torch.randn(20, 20, 20)\n",
    "for y in x.split([3, 2, 5, 10]):\n",
    "    print(y.shape)\n"
   ]
  }
 ],
 "metadata": {
  "kernelspec": {
   "display_name": "Python 3",
   "language": "python",
   "name": "python3"
  },
  "language_info": {
   "codemirror_mode": {
    "name": "ipython",
    "version": 3
   },
   "file_extension": ".py",
   "mimetype": "text/x-python",
   "name": "python",
   "nbconvert_exporter": "python",
   "pygments_lexer": "ipython3",
   "version": "3.8.8"
  }
 },
 "nbformat": 4,
 "nbformat_minor": 5
}
