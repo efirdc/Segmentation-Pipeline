{
 "cells": [
  {
   "cell_type": "code",
   "execution_count": 1,
   "metadata": {
    "tags": []
   },
   "outputs": [
    {
     "name": "stdout",
     "output_type": "stream",
     "text": [
      "CUDA is available. Using GPU.\n"
     ]
    }
   ],
   "source": [
    "%load_ext autoreload\n",
    "%autoreload 2\n",
    "\n",
    "import copy\n",
    "import os\n",
    "import sys\n",
    "\n",
    "import torch\n",
    "import torchio as tio\n",
    "from ipywidgets import interact\n",
    "import matplotlib.pyplot as plt\n",
    "\n",
    "dir2 = os.path.abspath('')\n",
    "dir1 = os.path.dirname(dir2)\n",
    "if not dir1 in sys.path: \n",
    "    sys.path.append(dir1)\n",
    "from segmentation_pipeline import *\n",
    "\n",
    "if torch.cuda.is_available():\n",
    "    device = torch.device('cuda')\n",
    "    print(\"CUDA is available. Using GPU.\")\n",
    "else:\n",
    "    device = torch.device('cpu')\n",
    "    print(\"CUDA is not available. Using CPU.\")"
   ]
  },
  {
   "cell_type": "code",
   "execution_count": 2,
   "metadata": {},
   "outputs": [],
   "source": [
    "from research.dmri_hippo.configs.main_config import get_context\n",
    "\n",
    "variables = dict(DATASET_PATH=\"X:/Datasets/Diffusion_MRI_cropped/\", CHECKPOINTS_PATH=\"X:/Checkpoints/\")\n",
    "context = get_context(device, variables)\n",
    "context.init_components()"
   ]
  },
  {
   "cell_type": "code",
   "execution_count": null,
   "metadata": {},
   "outputs": [],
   "source": [
    "iteration = 400\n",
    "file_path = f\"X:\\\\Checkpoints\\\\Diffusion_MRI\\\\dmri-hippo-seg-debugging\\\\dmri-hippo-cycle-flash-1q798mvn\\\\best_checkpoints\\\\iter{iteration:08}.pt\"\n",
    "variables = dict(DATASET_PATH=\"X:/Datasets/Diffusion_MRI/\", CHECKPOINTS_PATH=\"X:/Checkpoints/\")\n",
    "context = TorchContext(device, file_path=file_path, variables=variables)\n",
    "context.init_components()"
   ]
  },
  {
   "cell_type": "code",
   "execution_count": null,
   "metadata": {},
   "outputs": [],
   "source": [
    "iteration = 118\n",
    "file_path = f\"X:\\\\Checkpoints\\\\MSSEG2\\\\msseg2-hooks-capacitor-2oachxos\\\\iter{iteration:08}.pt\"\n",
    "variables = dict(DATASET_PATH=\"X:/Datasets/MSSEG2_resampled/\")\n",
    "\n",
    "device = torch.device('cpu')\n",
    "context = TorchContext(device, file_path=file_path, variables=variables)\n",
    "context.init_components()"
   ]
  },
  {
   "cell_type": "code",
   "execution_count": null,
   "metadata": {},
   "outputs": [],
   "source": [
    "config = load_module(\"./configs/msseg2.py\")\n",
    "\n",
    "variables = dict(DATASET_PATH=\"X:/Datasets/MSSEG2_processed/\")\n",
    "context = config.get_context(device, variables)\n",
    "context.init_components()"
   ]
  },
  {
   "cell_type": "code",
   "execution_count": 5,
   "metadata": {},
   "outputs": [
    {
     "data": {
      "application/vnd.jupyter.widget-view+json": {
       "model_id": "e0a7cce2b53b483a8da170bd7b1ffab7",
       "version_major": 2,
       "version_minor": 0
      },
      "text/plain": [
       "interactive(children=(Dropdown(description='name', options=('ab300_001', 'ab300_002', 'ab300_003', 'ab300_004'…"
      ]
     },
     "metadata": {},
     "output_type": "display_data"
    }
   ],
   "source": [
    "dataset = context.dataset\n",
    "all_subject_names = list(dataset.all_subjects_map.keys())\n",
    "\n",
    "noise = tio.RandomNoise(std=0.035, p=0.3)\n",
    "blur = tio.RandomBlur((0, 1), p=0.2)\n",
    "augmentations = tio.Compose([\n",
    "    tio.RandomFlip(axes=(0, 1, 2)),\n",
    "    tio.RandomElasticDeformation(p=0.5, num_control_points=(7, 7, 4), locked_borders=1, image_interpolation='bspline'),\n",
    "    tio.RandomBiasField(p=0.5),\n",
    "    tio.RescaleIntensity((0, 1), (0.01, 99.9)),\n",
    "    tio.RandomGamma(p=0.8),\n",
    "    tio.RescaleIntensity((-1, 1)),\n",
    "    tio.OneOf([\n",
    "        tio.Compose([blur, noise]),\n",
    "        tio.Compose([noise, blur]),\n",
    "    ])\n",
    "])\n",
    "augmentations = ReconstructMeanDWI(num_dwis=(1, 7), num_directions=(1, 3), directionality=(4, 10))\n",
    "\n",
    "custom_transform = tio.Compose([\n",
    "    tio.CropOrPad((96, 88, 24), padding_mode='edge', mask_name='whole_roi_union'),\n",
    "    MergeLabels([('left_whole', 'right_whole')], right_masking_method=\"Right\", include=\"whole_roi\"),\n",
    "    augmentations,\n",
    "    tio.RescaleIntensity((-1., 1.), (0.5, 99.5)),\n",
    "    ConcatenateImages(image_names=[\"mean_dwi\", \"md\", \"fa\"], image_channels=[1, 1, 1], new_image_name=\"X\"),\n",
    "    RenameProperty(old_name=\"whole_roi\", new_name=\"y\"),\n",
    "    CustomOneHot(include=\"y\")\n",
    "])\n",
    "#custom_transform = context.dataset.transforms['training']\n",
    "\n",
    "@interact(name=all_subject_names, \n",
    "          mode=['vis_subject', 'model_contour', 'vis_model'],\n",
    "          randomize=False)\n",
    "def vis(name, mode, randomize):\n",
    "    context.model.eval()\n",
    "    \n",
    "    def get_subject():\n",
    "        if custom_transform is None:\n",
    "            subject = context.dataset[name]\n",
    "        else:\n",
    "            subject = context.dataset.all_subjects_map[name]\n",
    "            subject = copy.deepcopy(subject)\n",
    "            subject = custom_transform(subject)\n",
    "        return subject\n",
    "    \n",
    "    \n",
    "    if mode == 'vis_subject':\n",
    "        \n",
    "        #augmentation = tio.RandomAffine(scales=0.2, degrees=45)\n",
    "        #augmentation = tio.RandomElasticDeformation()\n",
    "        #subject = augmentation(subject)\n",
    "        \n",
    "        vis_subject(context, [get_subject() for i in range(4)])\n",
    "    \n",
    "    elif mode == 'model_contour':\n",
    "        #subject = tio.CropOrPad((96, 96, 96))(subject)\n",
    "        subject = tio.EnsureShapeMultiple(32)(subject)\n",
    "        \n",
    "        X = subject['X']['data'][None].to(device)\n",
    "        with torch.no_grad():\n",
    "            y_pred = context.model(X)[0]\n",
    "            y_pred = y_pred > 0.5\n",
    "        subject['y_pred'] = copy.deepcopy(subject['y'])\n",
    "        subject['y_pred'].set_data(y_pred)\n",
    "            \n",
    "        vis_subject(context, subject)\n",
    "   \n",
    "    elif mode == 'vis_model':\n",
    "        subject = tio.CropOrPad((96, 96, 96))(subject)\n",
    "        vis_model(context, subject)"
   ]
  },
  {
   "cell_type": "code",
   "execution_count": null,
   "metadata": {},
   "outputs": [],
   "source": [
    "for subject in context.dataset:\n",
    "    time01 = subject['flair_time01'].data\n",
    "    time01 = subject['flair_time01'].data\n",
    "    print(subject['name'], subject['flair_time01'], time01.mean(), time01.std(), time01.min(), time01.max())"
   ]
  },
  {
   "cell_type": "code",
   "execution_count": null,
   "metadata": {},
   "outputs": [],
   "source": [
    "for subject in context.dataset:\n",
    "    print(subject['name'], subject['flair_time01'])"
   ]
  },
  {
   "cell_type": "code",
   "execution_count": null,
   "metadata": {},
   "outputs": [],
   "source": [
    "subject = context.dataset[0]"
   ]
  },
  {
   "cell_type": "code",
   "execution_count": null,
   "metadata": {},
   "outputs": [],
   "source": [
    "import numpy as np\n",
    "\n",
    "mask = subject['hbt_roi'].data.bool()[0]\n",
    "W, H, D = mask.shape\n",
    "W_where, H_where, D_where = torch.where(mask)\n",
    "\n",
    "slice_ids, counts = torch.unique(W_where, return_counts=True)\n",
    "interesting_slice_ids_ids = torch.argsort(counts, descending=True)\n",
    "interesting_slice_ids = slice_ids[interesting_slice_ids_ids]\n",
    "\n",
    "print(interesting_slice_ids)\n"
   ]
  },
  {
   "cell_type": "code",
   "execution_count": null,
   "metadata": {},
   "outputs": [],
   "source": [
    "subject = FindInterestingSlice()(subject)\n"
   ]
  },
  {
   "cell_type": "code",
   "execution_count": null,
   "metadata": {},
   "outputs": [],
   "source": [
    "subject['y']['interesting_slice_ids']"
   ]
  },
  {
   "cell_type": "code",
   "execution_count": null,
   "metadata": {},
   "outputs": [],
   "source": [
    "x = torch.ones(1)\n",
    "x.dtype == torch.float"
   ]
  },
  {
   "cell_type": "code",
   "execution_count": null,
   "metadata": {},
   "outputs": [],
   "source": [
    "from random import Random\n",
    "\n",
    "fold_ids = [i % 5 for i in range(42)]\n",
    "Random(0).shuffle(fold_ids)\n",
    "fold_ids"
   ]
  },
  {
   "cell_type": "code",
   "execution_count": null,
   "metadata": {},
   "outputs": [],
   "source": [
    "dataset"
   ]
  },
  {
   "cell_type": "code",
   "execution_count": null,
   "metadata": {},
   "outputs": [],
   "source": [
    "import numpy as np\n",
    "\n",
    "x = torch.ones(3, 5, 7)\n",
    "\n",
    "perm = (1, 2, 0)\n",
    "x = x.permute(perm)\n",
    "\n",
    "inverse_perm = tuple(torch.argsort(torch.tensor(perm)).tolist())\n",
    "print(inverse_perm)\n",
    "x = x.permute(inverse_perm)\n",
    "\n",
    "print(x.shape)"
   ]
  },
  {
   "cell_type": "code",
   "execution_count": null,
   "metadata": {},
   "outputs": [],
   "source": [
    "from itertools import permutations\n",
    "\n",
    "list(permutations((0, 1, 2)))"
   ]
  },
  {
   "cell_type": "code",
   "execution_count": 4,
   "metadata": {},
   "outputs": [
    {
     "name": "stdout",
     "output_type": "stream",
     "text": [
      "1 7 2.9059 2.0\n"
     ]
    },
    {
     "name": "stderr",
     "output_type": "stream",
     "text": [
      "C:\\Users\\Cefir\\anaconda3\\envs\\machine_learning\\lib\\site-packages\\ipykernel\\ipkernel.py:287: DeprecationWarning: `should_run_async` will not call `transform_cell` automatically in the future. Please pass the result to `transformed_cell` argument and any exception that happen during thetransform in `preprocessing_exc_tuple` in IPython 7.17 and above.\n",
      "  and should_run_async(code)\n"
     ]
    },
    {
     "data": {
      "image/png": "[encoded data removed]",
      "text/plain": [
       "<Figure size 432x288 with 1 Axes>"
      ]
     },
     "metadata": {
      "needs_background": "light"
     },
     "output_type": "display_data"
    }
   ],
   "source": [
    "import matplotlib.pyplot as plt\n",
    "import numpy as np\n",
    "\n",
    "low, high = 1, 7\n",
    "exponent = 2\n",
    "sample = np.random.rand(10000)\n",
    "#sample = np.random.pareto(a=exponent, size=10000)\n",
    "sample = sample ** exponent\n",
    "sample = sample * (high - low + 1) + low\n",
    "sample = sample.astype(int)\n",
    "print(sample.min(), sample.max(), sample.mean(), np.median(sample))\n",
    "\n",
    "plt.hist(sample, bins=(high - low + 1))\n",
    "plt.show()"
   ]
  }
 ],
 "metadata": {
  "kernelspec": {
   "display_name": "Python 3",
   "language": "python",
   "name": "python3"
  },
  "language_info": {
   "codemirror_mode": {
    "name": "ipython",
    "version": 3
   },
   "file_extension": ".py",
   "mimetype": "text/x-python",
   "name": "python",
   "nbconvert_exporter": "python",
   "pygments_lexer": "ipython3",
   "version": "3.8.10"
  }
 },
 "nbformat": 4,
 "nbformat_minor": 4
}
