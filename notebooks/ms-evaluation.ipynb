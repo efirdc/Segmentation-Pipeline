{
 "cells": [
  {
   "cell_type": "code",
   "execution_count": 1,
   "id": "coordinate-equivalent",
   "metadata": {
    "tags": []
   },
   "outputs": [
    {
     "ename": "ModuleNotFoundError",
     "evalue": "No module named 'wandb'",
     "output_type": "error",
     "traceback": [
      "\u001B[1;31m---------------------------------------------------------------------------\u001B[0m",
      "\u001B[1;31mModuleNotFoundError\u001B[0m                       Traceback (most recent call last)",
      "\u001B[1;32m<ipython-input-1-8231754f70e5>\u001B[0m in \u001B[0;36m<module>\u001B[1;34m\u001B[0m\n\u001B[0;32m     17\u001B[0m \u001B[1;32mfrom\u001B[0m \u001B[0mtransforms\u001B[0m \u001B[1;32mimport\u001B[0m \u001B[1;33m*\u001B[0m\u001B[1;33m\u001B[0m\u001B[1;33m\u001B[0m\u001B[0m\n\u001B[0;32m     18\u001B[0m \u001B[1;32mfrom\u001B[0m \u001B[0mevaluators\u001B[0m \u001B[1;32mimport\u001B[0m \u001B[1;33m*\u001B[0m\u001B[1;33m\u001B[0m\u001B[1;33m\u001B[0m\u001B[0m\n\u001B[1;32m---> 19\u001B[1;33m \u001B[1;32mfrom\u001B[0m \u001B[0mloggers\u001B[0m\u001B[1;33m.\u001B[0m\u001B[0mwandb_logger\u001B[0m \u001B[1;32mimport\u001B[0m \u001B[0mto_wandb\u001B[0m\u001B[1;33m\u001B[0m\u001B[1;33m\u001B[0m\u001B[0m\n\u001B[0m\u001B[0;32m     20\u001B[0m \u001B[1;33m\u001B[0m\u001B[0m\n\u001B[0;32m     21\u001B[0m \u001B[1;33m\u001B[0m\u001B[0m\n",
      "\u001B[1;32mG:\\Github Repositories\\Segmentation-Pipeline\\loggers\\__init__.py\u001B[0m in \u001B[0;36m<module>\u001B[1;34m\u001B[0m\n\u001B[0;32m      1\u001B[0m \u001B[1;32mfrom\u001B[0m \u001B[1;33m.\u001B[0m\u001B[0mnon_logger\u001B[0m \u001B[1;32mimport\u001B[0m \u001B[0mNonLogger\u001B[0m\u001B[1;33m\u001B[0m\u001B[1;33m\u001B[0m\u001B[0m\n\u001B[1;32m----> 2\u001B[1;33m \u001B[1;32mfrom\u001B[0m \u001B[1;33m.\u001B[0m\u001B[0mwandb_logger\u001B[0m \u001B[1;32mimport\u001B[0m \u001B[0mWandbLogger\u001B[0m\u001B[1;33m\u001B[0m\u001B[1;33m\u001B[0m\u001B[0m\n\u001B[0m",
      "\u001B[1;32mG:\\Github Repositories\\Segmentation-Pipeline\\loggers\\wandb_logger.py\u001B[0m in \u001B[0;36m<module>\u001B[1;34m\u001B[0m\n\u001B[0;32m      3\u001B[0m \u001B[1;32mfrom\u001B[0m \u001B[0mtyping\u001B[0m \u001B[1;32mimport\u001B[0m \u001B[0mOptional\u001B[0m\u001B[1;33m\u001B[0m\u001B[1;33m\u001B[0m\u001B[0m\n\u001B[0;32m      4\u001B[0m \u001B[1;33m\u001B[0m\u001B[0m\n\u001B[1;32m----> 5\u001B[1;33m \u001B[1;32mimport\u001B[0m \u001B[0mwandb\u001B[0m\u001B[1;33m\u001B[0m\u001B[1;33m\u001B[0m\u001B[0m\n\u001B[0m\u001B[0;32m      6\u001B[0m \u001B[1;32mfrom\u001B[0m \u001B[0mrandom_words\u001B[0m \u001B[1;32mimport\u001B[0m \u001B[0mRandomWords\u001B[0m\u001B[1;33m\u001B[0m\u001B[1;33m\u001B[0m\u001B[0m\n\u001B[0;32m      7\u001B[0m \u001B[1;32mimport\u001B[0m \u001B[0mpandas\u001B[0m \u001B[1;32mas\u001B[0m \u001B[0mpd\u001B[0m\u001B[1;33m\u001B[0m\u001B[1;33m\u001B[0m\u001B[0m\n",
      "\u001B[1;31mModuleNotFoundError\u001B[0m: No module named 'wandb'"
     ]
    }
   ],
   "source": [
    "%load_ext autoreload\n",
    "%autoreload 2\n",
    "\n",
    "import os\n",
    "import sys\n",
    "\n",
    "import torch\n",
    "import torchio as tio\n",
    "\n",
    "dir2 = os.path.abspath('')\n",
    "dir1 = os.path.dirname(dir2)\n",
    "if not dir1 in sys.path: \n",
    "    sys.path.append(dir1)\n",
    "\n",
    "from utils import load_module\n",
    "from data_processing import *\n",
    "from transforms import *\n",
    "from evaluators import *\n",
    "from loggers.wandb_logger import to_wandb\n",
    "\n",
    "\n",
    "if torch.cuda.is_available():\n",
    "    device = torch.device('cuda')\n",
    "    print(\"CUDA is available. Using GPU.\")\n",
    "else:\n",
    "    device = torch.device('cpu')\n",
    "    print(\"CUDA is not available. Using CPU.\")"
   ]
  },
  {
   "cell_type": "code",
   "execution_count": null,
   "id": "9a28ff4a-ad20-4097-85fc-3ee4e42caf7f",
   "metadata": {},
   "outputs": [],
   "source": []
  },
  {
   "cell_type": "code",
   "execution_count": null,
   "id": "welsh-lancaster",
   "metadata": {
    "tags": []
   },
   "outputs": [],
   "source": [
    "prediction_name = \"cv1-ens2-flips-majority\"\n",
    "\n",
    "subject_loader = ComposeLoaders([\n",
    "    ImageLoader(glob_pattern=\"ground_truth.*\", image_name=\"ground_truth\", \n",
    "                image_constructor=tio.LabelMap, label_values={\"lesion\": 1}),\n",
    "])\n",
    "transform = CustomOneHot()\n",
    "dataset = SubjectFolder(\"X:/Datasets/MSSEG2_processed/\", subject_path=\"\", subject_loader=subject_loader, transforms=transform)\n",
    "\n",
    "subject_loader = ComposeLoaders([\n",
    "    ImageLoader(glob_pattern=f\"{prediction_name}.*\", image_name=prediction_name, \n",
    "                image_constructor=tio.LabelMap, label_values={\"lesion\": 1}),\n",
    "])\n",
    "dataset.load_additional_data('X:/Predictions/MSSEG2/', subject_loader)"
   ]
  },
  {
   "cell_type": "code",
   "execution_count": null,
   "id": "appreciated-border",
   "metadata": {},
   "outputs": [],
   "source": [
    "seg_eval = InstanceSegmentationEvaluator(prediction_name, 'ground_truth')\n",
    "evaluation = seg_eval(dataset)\n",
    "evaluation['summary_stats'] = evaluation['summary_stats'].to_dataframe()"
   ]
  },
  {
   "cell_type": "code",
   "execution_count": null,
   "id": "polar-bryan",
   "metadata": {},
   "outputs": [],
   "source": [
    "evaluation['subject_stats']"
   ]
  },
  {
   "cell_type": "code",
   "execution_count": null,
   "id": "boxed-classic",
   "metadata": {},
   "outputs": [],
   "source": [
    "evaluation['summary_stats']"
   ]
  },
  {
   "cell_type": "code",
   "execution_count": null,
   "id": "outer-mountain",
   "metadata": {},
   "outputs": [],
   "source": [
    "import wandb\n",
    "wandb.init(project=\"msseg2-evaluation\", dir=\"X:/wandb/\", name=prediction_name)\n",
    "wandb.log(to_wandb(evaluation))\n",
    "wandb.finish()"
   ]
  }
 ],
 "metadata": {
  "kernelspec": {
   "display_name": "Python 3",
   "language": "python",
   "name": "python3"
  },
  "language_info": {
   "codemirror_mode": {
    "name": "ipython",
    "version": 3
   },
   "file_extension": ".py",
   "mimetype": "text/x-python",
   "name": "python",
   "nbconvert_exporter": "python",
   "pygments_lexer": "ipython3",
   "version": "3.8.10"
  }
 },
 "nbformat": 4,
 "nbformat_minor": 5
}