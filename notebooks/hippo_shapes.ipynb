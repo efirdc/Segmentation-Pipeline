{
 "cells": [
  {
   "cell_type": "code",
   "execution_count": 1,
   "id": "e90f240d",
   "metadata": {},
   "outputs": [],
   "source": [
    "%load_ext autoreload\n",
    "%autoreload 2\n",
    "\n",
    "\n",
    "import os, sys\n",
    "\n",
    "import torch\n",
    "import torchio as tio\n",
    "from ipywidgets import interact\n",
    "import matplotlib.pyplot as plt\n",
    "\n",
    "dir2 = os.path.abspath('')\n",
    "dir1 = os.path.dirname(dir2)\n",
    "if not dir1 in sys.path: \n",
    "    sys.path.append(dir1)\n",
    "from data_processing import *"
   ]
  },
  {
   "cell_type": "code",
   "execution_count": 2,
   "id": "02c8aeba",
   "metadata": {},
   "outputs": [],
   "source": [
    "subject_loader = ComposeLoaders([\n",
    "ImageLoader(glob_pattern=\"whole_roi.*\", image_name=\"whole_roi\", image_constructor=tio.LabelMap,\n",
    "                label_values={\"left_whole\": 1, \"right_whole\": 2}\n",
    "                ),\n",
    "])\n",
    "\n",
    "cohorts = {'all': RequireAttributes(['whole_roi'])}\n",
    "dataset_path = \"X:/Datasets/Diffusion_MRI/\"\n",
    "dataset = SubjectFolder(root=dataset_path, subject_path=\"subjects\", cohorts=cohorts, subject_loader=subject_loader)"
   ]
  },
  {
   "cell_type": "code",
   "execution_count": null,
   "id": "cdfc2e42",
   "metadata": {},
   "outputs": [],
   "source": [
    "from skimage.measure import marching_cubes\n",
    "import meshio\n",
    "\n",
    "image_name = 'whole_roi'\n",
    "for subject in dataset:\n",
    "    x = subject[image_name].data[0]\n",
    "\n",
    "    W, H, D = x.shape\n",
    "    half_W = W // 2\n",
    "\n",
    "    left_x = x[:half_W]\n",
    "    right_x = x[half_W:]\n",
    "\n",
    "    left_verts, left_faces, left_normals, left_values = marching_cubes(left_x.numpy())\n",
    "    right_verts, right_faces, right_normals, right_values = marching_cubes(right_x.numpy())\n",
    "\n",
    "    left_mesh = meshio.Mesh(left_verts, [(\"triangle\", left_faces)])\n",
    "    right_mesh = meshio.Mesh(right_verts, [(\"triangle\", right_faces)])\n",
    "\n",
    "    out_path = os.path.join(dataset_path, \"shape\", subject['name'])\n",
    "    if not os.path.exists(out_path):\n",
    "        os.makedirs(out_path)\n",
    "    left_mesh.write(os.path.join(out_path, f\"left_{image_name}.obj\"))\n",
    "    right_mesh.write(os.path.join(out_path, f\"right_{image_name}.obj\"))"
   ]
  },
  {
   "cell_type": "code",
   "execution_count": null,
   "id": "8e9f210b",
   "metadata": {},
   "outputs": [],
   "source": [
    "import pygalmesh\n",
    "\n",
    "image_name = 'whole_roi'\n",
    "for subject in dataset:\n",
    "    print(subject['name'])\n",
    "    x = subject[image_name].data[0]\n",
    "\n",
    "    W, H, D = x.shape\n",
    "    half_W = W // 2\n",
    "\n",
    "    left_x = (x[:half_W] > 0).to(torch.uint8)\n",
    "    right_x = (x[half_W:] > 0).to(torch.uint8)\n",
    "    \n",
    "    # See 4.2.2 https://doc.cgal.org/latest/Mesh_3/index.html\n",
    "    # and https://github.com/nschloe/pygalmesh/blob/dc2bd6c920c36cf27f5c89738bbe9488e3c4fe43/pygalmesh/main.py#L428\n",
    "    params = {'facet_distance': 1., 'cell_size': 1.}\n",
    "    voxel_size = (1., 1., 1.)\n",
    "    left_mesh = pygalmesh.generate_from_array(left_x.numpy(), voxel_size, **params)\n",
    "    right_mesh = pygalmesh.generate_from_array(right_x.numpy(), voxel_size, **params)\n",
    "\n",
    "    out_path = os.path.join(dataset_path, \"pygalmesh\", subject['name'])\n",
    "    if not os.path.exists(out_path):\n",
    "        os.makedirs(out_path)\n",
    "    left_mesh.write(os.path.join(out_path, f\"left_{image_name}.vtk\"))\n",
    "    right_mesh.write(os.path.join(out_path, f\"right_{image_name}.vtk\"))"
   ]
  },
  {
   "cell_type": "code",
   "execution_count": null,
   "id": "065aa759",
   "metadata": {},
   "outputs": [],
   "source": []
  },
  {
   "cell_type": "code",
   "execution_count": 6,
   "id": "75f61a59",
   "metadata": {
    "scrolled": false
   },
   "outputs": [
    {
     "data": {
      "application/vnd.jupyter.widget-view+json": {
       "model_id": "e6bf2bb9dfd04d05afac065ca2bc1f9e",
       "version_major": 2,
       "version_minor": 0
      },
      "text/plain": [
       "interactive(children=(Dropdown(description='subject_name', options=('ab300_001', 'ab300_002', 'ab300_004', 'ab…"
      ]
     },
     "metadata": {},
     "output_type": "display_data"
    }
   ],
   "source": [
    "import numpy as np\n",
    "import pyvista as pv\n",
    "import pygalmesh\n",
    "\n",
    "subject_names = [subject['name'] for subject in dataset.all_subjects]\n",
    "\n",
    "@interact(subject_name=subject_names)\n",
    "def show(subject_name):\n",
    "    subject = dataset[subject_name]\n",
    "    \n",
    "    @interact(facet_distance=(0., 2.), cell_size=(0., 2.))\n",
    "    def choose_params(facet_distance, cell_size):\n",
    "        x = subject['whole_roi'].data[0]\n",
    "\n",
    "        W, H, D = x.shape\n",
    "        half_W = W // 2\n",
    "\n",
    "        left_x = (x[:half_W] > 0).to(torch.uint8)\n",
    "        right_x = (x[half_W:] > 0).to(torch.uint8)\n",
    "\n",
    "        params = {'facet_distance': facet_distance, 'cell_size': cell_size}\n",
    "        voxel_size = (1., 1., 1.)\n",
    "        left_mesh = pygalmesh.generate_from_array(left_x.numpy(), voxel_size, **params)\n",
    "        right_mesh = pygalmesh.generate_from_array(right_x.numpy(), voxel_size, **params)\n",
    "\n",
    "        plotter = pv.Plotter(notebook=True)\n",
    "        mesh = pv.wrap(left_mesh)\n",
    "        plotter.add_mesh(mesh)\n",
    "        plotter.show(jupyter_backend='ipygany')"
   ]
  }
 ],
 "metadata": {
  "kernelspec": {
   "display_name": "Python 3",
   "language": "python",
   "name": "python3"
  },
  "language_info": {
   "codemirror_mode": {
    "name": "ipython",
    "version": 3
   },
   "file_extension": ".py",
   "mimetype": "text/x-python",
   "name": "python",
   "nbconvert_exporter": "python",
   "pygments_lexer": "ipython3",
   "version": "3.8.10"
  }
 },
 "nbformat": 4,
 "nbformat_minor": 5
}
